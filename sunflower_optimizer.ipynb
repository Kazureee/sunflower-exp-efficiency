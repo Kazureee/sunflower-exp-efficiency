{
  "nbformat": 4,
  "nbformat_minor": 0,
  "metadata": {
    "colab": {
      "provenance": [],
      "mount_file_id": "https://github.com/Kazureee/sunflower-exp-efficiency/blob/main/sunflower_optimizer.ipynb",
      "authorship_tag": "ABX9TyNS7MZGOXIMPu1/oqMMTFFN",
      "include_colab_link": true
    },
    "kernelspec": {
      "name": "python3",
      "display_name": "Python 3"
    },
    "language_info": {
      "name": "python"
    }
  },
  "cells": [
    {
      "cell_type": "markdown",
      "metadata": {
        "id": "view-in-github",
        "colab_type": "text"
      },
      "source": [
        "<a href=\"https://colab.research.google.com/github/Kazureee/sunflower-exp-efficiency/blob/main/sunflower_optimizer.ipynb\" target=\"_parent\"><img src=\"https://colab.research.google.com/assets/colab-badge.svg\" alt=\"Open In Colab\"/></a>"
      ]
    },
    {
      "cell_type": "code",
      "source": [
        "import requests\n",
        "\n",
        "def get_prices():\n",
        "    url = \"https://sfl.world/api/v1/prices\"\n",
        "    resp = requests.get(url)\n",
        "    resp.raise_for_status()\n",
        "    return resp.json()\n",
        "\n",
        "if __name__ == \"__main__\":\n",
        "    data = get_prices()\n",
        "    print(data)\n"
      ],
      "metadata": {
        "colab": {
          "base_uri": "https://localhost:8080/"
        },
        "id": "0f6wczMXKmZy",
        "outputId": "4ce6c6f2-c130-4752-a260-6001b7ddff00"
      },
      "execution_count": 1,
      "outputs": [
        {
          "output_type": "stream",
          "name": "stdout",
          "text": [
            "{'data': {'p2p': {'Sunflower': 0.00026345, 'Potato': 0.0004448, 'Pumpkin': 0.0016842, 'Carrot': 0.00219745, 'Cabbage': 0.001545, 'Beetroot': 0.00559275, 'Cauliflower': 0.006555, 'Parsnip': 0.01789831, 'Radish': 0.01203, 'Wheat': 0.01804054, 'Kale': 0.03797, 'Apple': 0.025, 'Blueberry': 0.019, 'Orange': 0.0172, 'Eggplant': 0.01167143, 'Corn': 0.0374902, 'Banana': 0.024575, 'Soybean': 0.002347, 'Grape': 0.38778, 'Rice': 0.60938, 'Olive': 0.68328, 'Tomato': 0.004125, 'Lemon': 0.012618, 'Barley': 0.03995, 'Rhubarb': 0.0005498, 'Zucchini': 0.000797, 'Yam': 0.003984, 'Broccoli': 0.0029754, 'Pepper': 0.0057, 'Onion': 0.01827967, 'Turnip': 0.008344, 'Artichoke': 0.013, 'Duskberry': 1.18, 'Lunara': 0.76, 'Celestine': 0.17666667, 'Wood': 0.0109, 'Stone': 0.0207, 'Iron': 0.07, 'Gold': 0.28935, 'Egg': 0.0236, 'Honey': 0.12375, 'Crimstone': 0.71738333, 'Leather': 0.222, 'Wool': 0.08988, 'Merino Wool': 0.0347, 'Feather': 0.0157, 'Milk': 0.14239756, 'Obsidian': 34.9, 'Goblin Emblem': 0.0735, 'Bumpkin Emblem': 0.09, 'Sunflorian Emblem': 0.0598955, 'Nightshade Emblem': 0.0575}, 'seq': {}, 'ge': {}}, 'updatedAt': 1759478782888, 'updated_text': '6 minutes ago'}\n"
          ]
        }
      ]
    },
    {
      "cell_type": "code",
      "source": [
        "import pandas as pd\n",
        "\n",
        "# Example market prices (from marketplace API)\n",
        "market_prices = {\n",
        "    \"Sunflower\": 0.007,\n",
        "    \"Pumpkin\": 0.02,\n",
        "    \"Potato\": 0.015,\n",
        "    \"Carrot\": 0.03,\n",
        "    \"Egg\": 0.05,\n",
        "    \"Wheat\": 0.01,\n",
        "    \"Cheese\": 0.2,\n",
        "    \"Tomato\": 0.04,\n",
        "    # ... add more from API\n",
        "}\n",
        "\n",
        "# Example food recipes (from sfl.world)\n",
        "recipes = [\n",
        "    {\"Food\": \"Pumpkin Soup\", \"Ingredients\": {\"Pumpkin\": 10}, \"XP\": 24},\n",
        "    {\"Food\": \"Mashed Potato\", \"Ingredients\": {\"Potato\": 8}, \"XP\": 3},\n",
        "    {\"Food\": \"Pizza Margherita\", \"Ingredients\": {\"Tomato\": 30, \"Cheese\": 5, \"Wheat\": 20}, \"XP\": 25000},\n",
        "    {\"Food\": \"Sunflower Crunch\", \"Ingredients\": {\"Sunflower\": 300}, \"XP\": 50},\n",
        "    {\"Food\": \"Boiled Eggs\", \"Ingredients\": {\"Egg\": 10}, \"XP\": 90},\n",
        "    # ... add more recipes\n",
        "]\n",
        "\n",
        "# Convert to DataFrame\n",
        "data = []\n",
        "for recipe in recipes:\n",
        "    total_cost = sum(market_prices.get(ing, 0) * qty for ing, qty in recipe[\"Ingredients\"].items())\n",
        "    xp = recipe[\"XP\"]\n",
        "    efficiency = xp / total_cost if total_cost > 0 else 0\n",
        "    data.append({\n",
        "        \"Food\": recipe[\"Food\"],\n",
        "        \"Ingredients\": recipe[\"Ingredients\"],\n",
        "        \"TotalCost\": total_cost,\n",
        "        \"XP\": xp,\n",
        "        \"XP_per_SFL\": efficiency\n",
        "    })\n",
        "\n",
        "df = pd.DataFrame(data)\n",
        "\n",
        "# Sort by efficiency\n",
        "df_sorted = df.sort_values(\"XP_per_SFL\", ascending=False)\n",
        "\n",
        "print(df_sorted)\n"
      ],
      "metadata": {
        "colab": {
          "base_uri": "https://localhost:8080/"
        },
        "id": "OvfxPn-wP-4h",
        "outputId": "5ece8340-52ea-450b-fe5c-8faaf34efbff"
      },
      "execution_count": 10,
      "outputs": [
        {
          "output_type": "stream",
          "name": "stdout",
          "text": [
            "               Food                               Ingredients  TotalCost  \\\n",
            "2  Pizza Margherita  {'Tomato': 30, 'Cheese': 5, 'Wheat': 20}       2.40   \n",
            "4       Boiled Eggs                               {'Egg': 10}       0.50   \n",
            "0      Pumpkin Soup                           {'Pumpkin': 10}       0.20   \n",
            "1     Mashed Potato                             {'Potato': 8}       0.12   \n",
            "3  Sunflower Crunch                        {'Sunflower': 300}       2.10   \n",
            "\n",
            "      XP    XP_per_SFL  \n",
            "2  25000  10416.666667  \n",
            "4     90    180.000000  \n",
            "0     24    120.000000  \n",
            "1      3     25.000000  \n",
            "3     50     23.809524  \n"
          ]
        }
      ]
    },
    {
      "cell_type": "code",
      "metadata": {
        "colab": {
          "base_uri": "https://localhost:8080/"
        },
        "id": "dd6b8b52",
        "outputId": "43c972f3-c58d-40a5-8fe7-520e771a6384"
      },
      "source": [
        "print(df.columns)"
      ],
      "execution_count": 9,
      "outputs": [
        {
          "output_type": "stream",
          "name": "stdout",
          "text": [
            "Index([], dtype='object')\n"
          ]
        }
      ]
    }
  ]
}