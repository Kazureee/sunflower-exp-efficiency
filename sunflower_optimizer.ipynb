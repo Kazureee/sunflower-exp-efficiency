{
  "nbformat": 4,
  "nbformat_minor": 0,
  "metadata": {
    "colab": {
      "provenance": [],
      "authorship_tag": "ABX9TyML9E3Q9uuoi/RYtHRyED6N",
      "include_colab_link": true
    },
    "kernelspec": {
      "name": "python3",
      "display_name": "Python 3"
    },
    "language_info": {
      "name": "python"
    }
  },
  "cells": [
    {
      "cell_type": "markdown",
      "metadata": {
        "id": "view-in-github",
        "colab_type": "text"
      },
      "source": [
        "<a href=\"https://colab.research.google.com/github/Kazureee/sunflower-exp-efficiency/blob/main/sunflower_optimizer.ipynb\" target=\"_parent\"><img src=\"https://colab.research.google.com/assets/colab-badge.svg\" alt=\"Open In Colab\"/></a>"
      ]
    },
    {
      "cell_type": "code",
      "source": [
        "!pip install requests pandas\n"
      ],
      "metadata": {
        "colab": {
          "base_uri": "https://localhost:8080/"
        },
        "id": "A6DK1ZN7qkB8",
        "outputId": "4a65dd7a-def0-4e25-9a48-81050f6e89fb"
      },
      "execution_count": 57,
      "outputs": [
        {
          "output_type": "stream",
          "name": "stdout",
          "text": [
            "Requirement already satisfied: requests in /usr/local/lib/python3.12/dist-packages (2.32.4)\n",
            "Requirement already satisfied: pandas in /usr/local/lib/python3.12/dist-packages (2.2.2)\n",
            "Requirement already satisfied: charset_normalizer<4,>=2 in /usr/local/lib/python3.12/dist-packages (from requests) (3.4.3)\n",
            "Requirement already satisfied: idna<4,>=2.5 in /usr/local/lib/python3.12/dist-packages (from requests) (3.10)\n",
            "Requirement already satisfied: urllib3<3,>=1.21.1 in /usr/local/lib/python3.12/dist-packages (from requests) (2.5.0)\n",
            "Requirement already satisfied: certifi>=2017.4.17 in /usr/local/lib/python3.12/dist-packages (from requests) (2025.8.3)\n",
            "Requirement already satisfied: numpy>=1.26.0 in /usr/local/lib/python3.12/dist-packages (from pandas) (2.0.2)\n",
            "Requirement already satisfied: python-dateutil>=2.8.2 in /usr/local/lib/python3.12/dist-packages (from pandas) (2.9.0.post0)\n",
            "Requirement already satisfied: pytz>=2020.1 in /usr/local/lib/python3.12/dist-packages (from pandas) (2025.2)\n",
            "Requirement already satisfied: tzdata>=2022.7 in /usr/local/lib/python3.12/dist-packages (from pandas) (2025.2)\n",
            "Requirement already satisfied: six>=1.5 in /usr/local/lib/python3.12/dist-packages (from python-dateutil>=2.8.2->pandas) (1.17.0)\n"
          ]
        }
      ]
    },
    {
      "cell_type": "code",
      "source": [
        "import requests\n",
        "\n",
        "prices_url = \"https://sfl.tools/api/listings/prices\"\n",
        "prices = requests.get(prices_url).json()\n",
        "\n",
        "print(\"Cheapest prices:\")\n",
        "for item, data in prices.items():\n",
        "    price = data.get(\"pricePerUnit\")\n",
        "    qty = data.get(\"quantity\")\n",
        "    print(f\"{item}: {price} SFL (Qty: {qty})\")\n"
      ],
      "metadata": {
        "colab": {
          "base_uri": "https://localhost:8080/"
        },
        "id": "Sn51e2BCqou_",
        "outputId": "3e2f78af-7eb2-49cb-d114-2a050f7c21f6"
      },
      "execution_count": 58,
      "outputs": [
        {
          "output_type": "stream",
          "name": "stdout",
          "text": [
            "Cheapest prices:\n",
            "201: 0.007 SFL (Qty: None)\n",
            "202: 0.0235 SFL (Qty: None)\n",
            "203: 0.0143 SFL (Qty: None)\n",
            "204: 0.077 SFL (Qty: None)\n",
            "205: 0.05 SFL (Qty: None)\n",
            "206: 0.037333333333333333 SFL (Qty: None)\n",
            "207: 0.05972727 SFL (Qty: None)\n",
            "208: 0.055 SFL (Qty: None)\n",
            "209: 0.17 SFL (Qty: None)\n",
            "210: 0.308 SFL (Qty: None)\n",
            "211: 0.154527272727272727 SFL (Qty: None)\n",
            "212: 0.95 SFL (Qty: None)\n",
            "213: 0.255466052934407364 SFL (Qty: None)\n",
            "214: 0.364 SFL (Qty: None)\n",
            "215: 0.062 SFL (Qty: None)\n",
            "216: 0.067 SFL (Qty: None)\n",
            "601: 0.079 SFL (Qty: None)\n",
            "602: 0.145 SFL (Qty: None)\n",
            "603: 0.536 SFL (Qty: None)\n",
            "604: 2.65 SFL (Qty: None)\n",
            "605: 0.193 SFL (Qty: None)\n"
          ]
        }
      ]
    },
    {
      "cell_type": "code",
      "source": [
        "import requests\n",
        "import pandas as pd\n",
        "from bs4 import BeautifulSoup\n",
        "\n",
        "# 1. Get prices\n",
        "prices_url = \"https://sfl.tools/api/listings/prices\"\n",
        "prices = requests.get(prices_url).json()\n",
        "\n",
        "print(\"Sample prices data:\", list(prices.items())[:5])  # debug\n",
        "\n",
        "# 2. Scrape cooking EXP info\n",
        "cooking_url = \"https://sfl.world/info/cooking\"\n",
        "html = requests.get(cooking_url).text\n",
        "soup = BeautifulSoup(html, \"html.parser\")\n",
        "\n",
        "food_exp = {}\n",
        "rows = soup.select(\"table tbody tr\")\n",
        "for row in rows:\n",
        "    cols = row.find_all(\"td\")\n",
        "    if len(cols) >= 3:\n",
        "        food_name = cols[0].get_text(strip=True)\n",
        "        exp_text = cols[2].get_text(strip=True).replace(\" EXP\", \"\")\n",
        "        try:\n",
        "            exp = int(exp_text)\n",
        "            food_exp[food_name] = exp\n",
        "        except:\n",
        "            pass\n",
        "\n",
        "print(\"Sample EXP data:\", list(food_exp.items())[:10])  # debug\n"
      ],
      "metadata": {
        "colab": {
          "base_uri": "https://localhost:8080/"
        },
        "id": "lVwqYWOurRUI",
        "outputId": "f2419f7f-bc1b-4208-dda2-b92abd64ad12"
      },
      "execution_count": 60,
      "outputs": [
        {
          "output_type": "stream",
          "name": "stdout",
          "text": [
            "Sample prices data: [('201', {'sflItemId': 201, 'sflItemName': 'Sunflower', 'pricePerUnit': '0.007', 'pricePerUnitTaxed': '0.0077'}), ('202', {'sflItemId': 202, 'sflItemName': 'Potato', 'pricePerUnit': '0.0235', 'pricePerUnitTaxed': '0.02585'}), ('203', {'sflItemId': 203, 'sflItemName': 'Pumpkin', 'pricePerUnit': '0.0143', 'pricePerUnitTaxed': '0.01573'}), ('204', {'sflItemId': 204, 'sflItemName': 'Carrot', 'pricePerUnit': '0.077', 'pricePerUnitTaxed': '0.0847'}), ('205', {'sflItemId': 205, 'sflItemName': 'Cabbage', 'pricePerUnit': '0.05', 'pricePerUnitTaxed': '0.055'})]\n",
            "Sample EXP data: [('', 1100)]\n"
          ]
        }
      ]
    },
    {
      "cell_type": "code",
      "source": [
        "# 2. Scrape cooking EXP info\n",
        "cooking_url = \"https://sfl.world/info/cooking\"\n",
        "html = requests.get(cooking_url).text\n",
        "soup = BeautifulSoup(html, \"html.parser\")\n",
        "\n",
        "food_exp = {}\n",
        "\n",
        "# Find all rows\n",
        "rows = soup.find_all(\"tr\")\n",
        "for row in rows:\n",
        "    cols = row.find_all(\"td\")\n",
        "    if len(cols) >= 3:\n",
        "        food_name = cols[0].get_text(separator=\" \", strip=True)\n",
        "        exp_text = cols[2].get_text(strip=True).replace(\" EXP\", \"\")\n",
        "        try:\n",
        "            exp = int(exp_text)\n",
        "            food_exp[food_name] = exp\n",
        "        except ValueError:\n",
        "            pass\n",
        "\n",
        "print(\"Sample EXP data:\", list(food_exp.items())[:10])\n"
      ],
      "metadata": {
        "id": "KvOUZKnpwgPT",
        "outputId": "9405defc-92e9-4d54-fc8b-3bf5e4685bea",
        "colab": {
          "base_uri": "https://localhost:8080/"
        }
      },
      "execution_count": 62,
      "outputs": [
        {
          "output_type": "stream",
          "name": "stdout",
          "text": [
            "Sample EXP data: [('', 1100)]\n"
          ]
        }
      ]
    }
  ]
}